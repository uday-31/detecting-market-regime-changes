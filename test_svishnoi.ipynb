{
 "cells": [
  {
   "cell_type": "code",
   "execution_count": 33,
   "id": "ca2fb538",
   "metadata": {},
   "outputs": [
    {
     "name": "stdout",
     "output_type": "stream",
     "text": [
      "The autoreload extension is already loaded. To reload it, use:\n",
      "  %reload_ext autoreload\n"
     ]
    }
   ],
   "source": [
    "%load_ext autoreload\n",
    "%autoreload 2"
   ]
  },
  {
   "cell_type": "code",
   "execution_count": 41,
   "id": "ee393370",
   "metadata": {},
   "outputs": [],
   "source": [
    "from modules.NaiveBayesClassifier import train_NBC, get_predict_probs_NBC, predict_NBC\n",
    "from modules.MixtureModels import get_probabilities_mixture_models, predict_mixture_models\n",
    "import modules.directional_change as dc\n",
    "import numpy as np\n",
    "import pandas as pd"
   ]
  },
  {
   "cell_type": "code",
   "execution_count": 12,
   "id": "0b42c52b",
   "metadata": {},
   "outputs": [],
   "source": [
    "'''Testing Code for Naive Bayes Classifier'''\n",
    "n = 50 # Samples\n",
    "N = 3 # Dimensions\n",
    "K = 2 # Classes\n",
    "\n",
    "X = np.random.normal(size=(n,N))\n",
    "y = np.random.randint(K, size=n)\n",
    "\n",
    "model = train_NBC(X, y)"
   ]
  },
  {
   "cell_type": "code",
   "execution_count": 22,
   "id": "4f0d4062",
   "metadata": {},
   "outputs": [],
   "source": [
    "X_test = np.random.normal(size=(5,N))\n",
    "probs = get_predict_probs_NBC(model, X_test)"
   ]
  },
  {
   "cell_type": "code",
   "execution_count": 23,
   "id": "6ea59b65",
   "metadata": {},
   "outputs": [
    {
     "data": {
      "text/plain": [
       "array([[0.51606893, 0.48393107],\n",
       "       [0.46321459, 0.53678541],\n",
       "       [0.57658988, 0.42341012],\n",
       "       [0.43027957, 0.56972043],\n",
       "       [0.42692204, 0.57307796]])"
      ]
     },
     "execution_count": 23,
     "metadata": {},
     "output_type": "execute_result"
    }
   ],
   "source": [
    "probs"
   ]
  },
  {
   "cell_type": "code",
   "execution_count": 24,
   "id": "0386f82d",
   "metadata": {},
   "outputs": [],
   "source": [
    "'''Testing the mixture models'''\n",
    "\n",
    "X = np.random.normal(size=(n,N))\n",
    "y = np.random.randint(K, size=n)\n",
    "model1 = train_NBC(X, y)\n",
    "\n",
    "X = np.random.normal(size=(n,N))\n",
    "y = np.random.randint(K, size=n)\n",
    "model2 = train_NBC(X, y)\n",
    "\n",
    "X = np.random.normal(size=(n,N))\n",
    "y = np.random.randint(K, size=n)\n",
    "model3 = train_NBC(X, y)\n"
   ]
  },
  {
   "cell_type": "code",
   "execution_count": 20,
   "id": "f3bbef77",
   "metadata": {},
   "outputs": [],
   "source": [
    "X_test = np.random.normal(size=(5,N))\n",
    "q = np.array([25,25,50])"
   ]
  },
  {
   "cell_type": "code",
   "execution_count": 25,
   "id": "301cb90f",
   "metadata": {},
   "outputs": [],
   "source": [
    "probs1 = get_predict_probs_NBC( model1, X_test )\n",
    "probs2 = get_predict_probs_NBC( model2, X_test )\n",
    "probs3 = get_predict_probs_NBC( model3, X_test )\n"
   ]
  },
  {
   "cell_type": "code",
   "execution_count": 26,
   "id": "0c932e10",
   "metadata": {},
   "outputs": [
    {
     "data": {
      "text/plain": [
       "array([[0.71010633, 0.28989367],\n",
       "       [0.5006721 , 0.4993279 ],\n",
       "       [0.92314909, 0.07685091],\n",
       "       [0.47173046, 0.52826954],\n",
       "       [0.42256039, 0.57743961]])"
      ]
     },
     "execution_count": 26,
     "metadata": {},
     "output_type": "execute_result"
    }
   ],
   "source": [
    "probs1"
   ]
  },
  {
   "cell_type": "code",
   "execution_count": 27,
   "id": "e3722fa5",
   "metadata": {},
   "outputs": [
    {
     "data": {
      "text/plain": [
       "array([[0.39650229, 0.60349771],\n",
       "       [0.21439352, 0.78560648],\n",
       "       [0.04240097, 0.95759903],\n",
       "       [0.41970178, 0.58029822],\n",
       "       [0.37523777, 0.62476223]])"
      ]
     },
     "execution_count": 27,
     "metadata": {},
     "output_type": "execute_result"
    }
   ],
   "source": [
    "probs2"
   ]
  },
  {
   "cell_type": "code",
   "execution_count": 28,
   "id": "2c0c1654",
   "metadata": {},
   "outputs": [
    {
     "data": {
      "text/plain": [
       "array([[0.22771961, 0.77228039],\n",
       "       [0.68895389, 0.31104611],\n",
       "       [0.87336345, 0.12663655],\n",
       "       [0.3584467 , 0.6415533 ],\n",
       "       [0.43377572, 0.56622428]])"
      ]
     },
     "execution_count": 28,
     "metadata": {},
     "output_type": "execute_result"
    }
   ],
   "source": [
    "probs3"
   ]
  },
  {
   "cell_type": "code",
   "execution_count": 39,
   "id": "90cc71b3",
   "metadata": {},
   "outputs": [
    {
     "data": {
      "text/plain": [
       "array([[0.39051196, 0.60948804],\n",
       "       [0.52324335, 0.47675665],\n",
       "       [0.67806924, 0.32193076],\n",
       "       [0.40208141, 0.59791859],\n",
       "       [0.4163374 , 0.5836626 ]])"
      ]
     },
     "execution_count": 39,
     "metadata": {},
     "output_type": "execute_result"
    }
   ],
   "source": [
    "get_probabilities_mixture_models(([probs1, probs2, probs3]), q)"
   ]
  },
  {
   "cell_type": "code",
   "execution_count": 45,
   "id": "2966b6b4",
   "metadata": {},
   "outputs": [
    {
     "name": "stdout",
     "output_type": "stream",
     "text": [
      "[*********************100%***********************]  1 of 1 completed\n"
     ]
    }
   ],
   "source": [
    "'''Testing trading startegy'''\n",
    "data = dc.get_data(['^GSPC'], '2010-01-01', 6.5)\n",
    "theta = 0.075"
   ]
  },
  {
   "cell_type": "code",
   "execution_count": 47,
   "id": "a5c24ed1",
   "metadata": {},
   "outputs": [],
   "source": [
    "d2 = dc.get_dc_data_v2( data, theta)"
   ]
  },
  {
   "cell_type": "code",
   "execution_count": 49,
   "id": "9d4a3801",
   "metadata": {},
   "outputs": [
    {
     "data": {
      "text/plain": [
       "38"
      ]
     },
     "execution_count": 49,
     "metadata": {},
     "output_type": "execute_result"
    }
   ],
   "source": [
    "d2.__len__()"
   ]
  },
  {
   "cell_type": "code",
   "execution_count": 50,
   "id": "50b450e8",
   "metadata": {},
   "outputs": [
    {
     "data": {
      "text/plain": [
       "(Timestamp('2010-02-04 00:00:00'),\n",
       " 1063.1099853515625,\n",
       " Timestamp('2010-01-19 00:00:00'),\n",
       " 1150.22998046875)"
      ]
     },
     "execution_count": 50,
     "metadata": {},
     "output_type": "execute_result"
    }
   ],
   "source": [
    "d2[0]"
   ]
  },
  {
   "cell_type": "code",
   "execution_count": 87,
   "id": "b85d030a",
   "metadata": {},
   "outputs": [],
   "source": [
    "d1 = dc.get_DC_data(data, 0.075)"
   ]
  },
  {
   "cell_type": "code",
   "execution_count": 88,
   "id": "248b5418",
   "metadata": {},
   "outputs": [
    {
     "data": {
      "text/plain": [
       "[(Timestamp('2020-03-09 00:00:00'),\n",
       "  2746.56005859375,\n",
       "  Timestamp('2020-03-05 06:30:00'),\n",
       "  3075.699951171875),\n",
       " (Timestamp('2020-03-13 00:00:00'),\n",
       "  2711.02001953125,\n",
       "  Timestamp('2020-03-12 00:00:00'),\n",
       "  2480.639892578125),\n",
       " (Timestamp('2020-03-16 00:00:00'),\n",
       "  2386.1298828125,\n",
       "  Timestamp('2020-03-13 00:00:00'),\n",
       "  2711.02001953125),\n",
       " (Timestamp('2020-03-24 00:00:00'),\n",
       "  2447.330078125,\n",
       "  Timestamp('2020-03-23 00:00:00'),\n",
       "  2237.39990234375)]"
      ]
     },
     "execution_count": 88,
     "metadata": {},
     "output_type": "execute_result"
    }
   ],
   "source": [
    "d1"
   ]
  },
  {
   "cell_type": "code",
   "execution_count": 99,
   "id": "3ee4e999",
   "metadata": {},
   "outputs": [
    {
     "data": {
      "text/plain": [
       "2020-03-12   -2.579619\n",
       "2020-03-13    1.238283\n",
       "2020-03-23   -2.329358\n",
       "dtype: float64"
      ]
     },
     "execution_count": 99,
     "metadata": {},
     "output_type": "execute_result"
    }
   ],
   "source": [
    "TMV = dc.get_TMV(d1, theta)\n",
    "TMV"
   ]
  },
  {
   "cell_type": "code",
   "execution_count": 100,
   "id": "5a0cc9a5",
   "metadata": {},
   "outputs": [
    {
     "data": {
      "text/plain": [
       "2020-03-12     6.708333\n",
       "2020-03-13     1.000000\n",
       "2020-03-23    10.000000\n",
       "dtype: float64"
      ]
     },
     "execution_count": 100,
     "metadata": {},
     "output_type": "execute_result"
    }
   ],
   "source": [
    "T = dc.get_T( d1 )\n",
    "T"
   ]
  },
  {
   "cell_type": "code",
   "execution_count": 101,
   "id": "c12f900e",
   "metadata": {},
   "outputs": [
    {
     "data": {
      "text/plain": [
       "2020-03-12   -0.028840\n",
       "2020-03-13    0.092871\n",
       "2020-03-23   -0.017470\n",
       "dtype: float64"
      ]
     },
     "execution_count": 101,
     "metadata": {},
     "output_type": "execute_result"
    }
   ],
   "source": [
    "R = dc.get_R( TMV, T, theta )\n",
    "R"
   ]
  },
  {
   "cell_type": "code",
   "execution_count": 102,
   "id": "01195b18",
   "metadata": {},
   "outputs": [
    {
     "data": {
      "text/plain": [
       "0.092871225"
      ]
     },
     "execution_count": 102,
     "metadata": {},
     "output_type": "execute_result"
    }
   ],
   "source": [
    "1.238283 * 0.075"
   ]
  },
  {
   "cell_type": "code",
   "execution_count": null,
   "id": "d116c2ca",
   "metadata": {},
   "outputs": [],
   "source": []
  }
 ],
 "metadata": {
  "kernelspec": {
   "display_name": "Python 3 (ipykernel)",
   "language": "python",
   "name": "python3"
  },
  "language_info": {
   "codemirror_mode": {
    "name": "ipython",
    "version": 3
   },
   "file_extension": ".py",
   "mimetype": "text/x-python",
   "name": "python",
   "nbconvert_exporter": "python",
   "pygments_lexer": "ipython3",
   "version": "3.10.6"
  }
 },
 "nbformat": 4,
 "nbformat_minor": 5
}
