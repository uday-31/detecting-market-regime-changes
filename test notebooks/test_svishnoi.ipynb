{
 "cells": [
  {
   "cell_type": "code",
   "execution_count": 543,
   "id": "637f67a6",
   "metadata": {},
   "outputs": [
    {
     "name": "stdout",
     "output_type": "stream",
     "text": [
      "The autoreload extension is already loaded. To reload it, use:\n",
      "  %reload_ext autoreload\n"
     ]
    }
   ],
   "source": [
    "%load_ext autoreload\n",
    "%autoreload 2"
   ]
  },
  {
   "cell_type": "code",
   "execution_count": 557,
   "id": "d5cf1492",
   "metadata": {},
   "outputs": [],
   "source": [
    "import modules.NaiveBayesClassifier as nbc\n",
    "import modules.MixtureModels as mm\n",
    "import modules.hidden_markov_model as hmm\n",
    "import modules.directional_change as dc\n",
    "import modules.generate_data as gd\n",
    "import modules.trading_strategy as ts\n",
    "import numpy as np\n",
    "import pandas as pd\n",
    "import matplotlib.pyplot as plt\n",
    "import seaborn as sns\n",
    "\n",
    "import warnings\n",
    "warnings.filterwarnings('ignore')"
   ]
  },
  {
   "cell_type": "markdown",
   "id": "55206ab1",
   "metadata": {},
   "source": [
    "## Checking Naive Bayes and Mixture Models"
   ]
  },
  {
   "cell_type": "code",
   "execution_count": 558,
   "id": "f4f6bcbf",
   "metadata": {},
   "outputs": [],
   "source": [
    "'''Testing Code for Naive Bayes Classifier'''\n",
    "n = 50 # Samples\n",
    "N = 3 # Dimensions\n",
    "K = 2 # Classes\n",
    "\n",
    "X = np.random.normal(size=(n,N))\n",
    "y = np.random.randint(K, size=n)\n",
    "\n",
    "model = train_NBC(X, y)"
   ]
  },
  {
   "cell_type": "code",
   "execution_count": 559,
   "id": "49c998a7",
   "metadata": {},
   "outputs": [],
   "source": [
    "X_test = np.random.normal(size=(5,N))\n",
    "probs = nbc.get_predict_probs_NBC(model, X_test)"
   ]
  },
  {
   "cell_type": "code",
   "execution_count": 560,
   "id": "905d64e9",
   "metadata": {},
   "outputs": [
    {
     "data": {
      "text/plain": [
       "array([[0.07100015, 0.92899985],\n",
       "       [0.55960106, 0.44039894],\n",
       "       [0.41949784, 0.58050216],\n",
       "       [0.60305651, 0.39694349],\n",
       "       [0.23403104, 0.76596896]])"
      ]
     },
     "execution_count": 560,
     "metadata": {},
     "output_type": "execute_result"
    }
   ],
   "source": [
    "probs"
   ]
  },
  {
   "cell_type": "code",
   "execution_count": 561,
   "id": "b7ace2bb",
   "metadata": {},
   "outputs": [],
   "source": [
    "'''Testing the mixture models'''\n",
    "\n",
    "X = np.random.normal(size=(n,N))\n",
    "y = np.random.randint(K, size=n)\n",
    "model1 = nbc.train_NBC(X, y)\n",
    "\n",
    "X = np.random.normal(size=(n,N))\n",
    "y = np.random.randint(K, size=n)\n",
    "model2 = nbc.train_NBC(X, y)\n",
    "\n",
    "X = np.random.normal(size=(n,N))\n",
    "y = np.random.randint(K, size=n)\n",
    "model3 = nbc.train_NBC(X, y)\n"
   ]
  },
  {
   "cell_type": "code",
   "execution_count": 562,
   "id": "6a1e7d9b",
   "metadata": {},
   "outputs": [],
   "source": [
    "X_test = np.random.normal(size=(5,N))\n",
    "q = np.array([25,25,50])"
   ]
  },
  {
   "cell_type": "code",
   "execution_count": 563,
   "id": "4dd59d61",
   "metadata": {},
   "outputs": [],
   "source": [
    "probs1 = get_predict_probs_NBC( model1, X_test )\n",
    "probs2 = get_predict_probs_NBC( model2, X_test )\n",
    "probs3 = get_predict_probs_NBC( model3, X_test )\n"
   ]
  },
  {
   "cell_type": "code",
   "execution_count": 564,
   "id": "d74846dd",
   "metadata": {},
   "outputs": [
    {
     "data": {
      "text/plain": [
       "array([[0.69295498, 0.30704502],\n",
       "       [0.12708483, 0.87291517],\n",
       "       [0.59815885, 0.40184115],\n",
       "       [0.42346435, 0.57653565],\n",
       "       [0.40698468, 0.59301532]])"
      ]
     },
     "execution_count": 564,
     "metadata": {},
     "output_type": "execute_result"
    }
   ],
   "source": [
    "probs1"
   ]
  },
  {
   "cell_type": "code",
   "execution_count": 565,
   "id": "86ba0223",
   "metadata": {},
   "outputs": [
    {
     "data": {
      "text/plain": [
       "array([[0.434289  , 0.565711  ],\n",
       "       [0.3105086 , 0.6894914 ],\n",
       "       [0.54515753, 0.45484247],\n",
       "       [0.47975665, 0.52024335],\n",
       "       [0.47198228, 0.52801772]])"
      ]
     },
     "execution_count": 565,
     "metadata": {},
     "output_type": "execute_result"
    }
   ],
   "source": [
    "probs2"
   ]
  },
  {
   "cell_type": "code",
   "execution_count": 566,
   "id": "adcafa49",
   "metadata": {},
   "outputs": [
    {
     "data": {
      "text/plain": [
       "array([[0.56081057, 0.43918943],\n",
       "       [0.46164811, 0.53835189],\n",
       "       [0.41281066, 0.58718934],\n",
       "       [0.50322679, 0.49677321],\n",
       "       [0.61979287, 0.38020713]])"
      ]
     },
     "execution_count": 566,
     "metadata": {},
     "output_type": "execute_result"
    }
   ],
   "source": [
    "probs3"
   ]
  },
  {
   "cell_type": "code",
   "execution_count": 567,
   "id": "33aa8dc0",
   "metadata": {},
   "outputs": [
    {
     "data": {
      "text/plain": [
       "array([[0.56221628, 0.43778372],\n",
       "       [0.34022241, 0.65977759],\n",
       "       [0.49223442, 0.50776558],\n",
       "       [0.47741865, 0.52258135],\n",
       "       [0.52963818, 0.47036182]])"
      ]
     },
     "execution_count": 567,
     "metadata": {},
     "output_type": "execute_result"
    }
   ],
   "source": [
    "mm.get_probabilities_mixture_models(([probs1, probs2, probs3]), q)"
   ]
  },
  {
   "cell_type": "markdown",
   "id": "a6ed70eb",
   "metadata": {},
   "source": [
    "## Checking DC Data stuff and fit_hmm"
   ]
  },
  {
   "cell_type": "code",
   "execution_count": 462,
   "id": "e6c0533c",
   "metadata": {},
   "outputs": [
    {
     "name": "stdout",
     "output_type": "stream",
     "text": [
      "[*********************100%***********************]  1 of 1 completed\n"
     ]
    }
   ],
   "source": [
    "'''Testing trading startegy'''\n",
    "data = dc.get_data(['^GSPC'], '2010-01-01', 6.5)\n",
    "theta = 0.075"
   ]
  },
  {
   "cell_type": "code",
   "execution_count": 463,
   "id": "58016922",
   "metadata": {},
   "outputs": [],
   "source": [
    "d2 = dc.get_DC_data_v2( data, theta)"
   ]
  },
  {
   "cell_type": "code",
   "execution_count": 464,
   "id": "e4346723",
   "metadata": {},
   "outputs": [
    {
     "data": {
      "text/plain": [
       "Date\n",
       "2010-01-04 00:00:00    1132.989990\n",
       "2010-01-04 06:30:00    1116.560059\n",
       "2010-01-05 00:00:00    1136.520020\n",
       "2010-01-05 06:30:00    1132.660034\n",
       "2010-01-06 00:00:00    1137.140015\n",
       "                          ...     \n",
       "2022-12-28 06:30:00    3829.560059\n",
       "2022-12-29 00:00:00    3849.280029\n",
       "2022-12-29 06:30:00    3805.449951\n",
       "2022-12-30 00:00:00    3839.500000\n",
       "2022-12-30 06:30:00    3829.060059\n",
       "Length: 6544, dtype: float64"
      ]
     },
     "execution_count": 464,
     "metadata": {},
     "output_type": "execute_result"
    }
   ],
   "source": [
    "data"
   ]
  },
  {
   "cell_type": "code",
   "execution_count": 465,
   "id": "151f3e36",
   "metadata": {},
   "outputs": [],
   "source": [
    "d1 = dc.get_DC_data(data, 0.05)"
   ]
  },
  {
   "cell_type": "code",
   "execution_count": 466,
   "id": "d4b2cc29",
   "metadata": {},
   "outputs": [
    {
     "data": {
      "text/plain": [
       "[(Timestamp('2011-08-04 00:00:00'),\n",
       "  1200.0699462890625,\n",
       "  Timestamp('2011-08-02 06:30:00'),\n",
       "  1286.56005859375),\n",
       " (Timestamp('2020-03-04 00:00:00'),\n",
       "  3130.1201171875,\n",
       "  Timestamp('2020-03-02 06:30:00'),\n",
       "  2974.280029296875),\n",
       " (Timestamp('2020-03-09 00:00:00'),\n",
       "  2746.56005859375,\n",
       "  Timestamp('2020-03-05 06:30:00'),\n",
       "  3075.699951171875),\n",
       " (Timestamp('2020-03-13 00:00:00'),\n",
       "  2711.02001953125,\n",
       "  Timestamp('2020-03-12 00:00:00'),\n",
       "  2480.639892578125),\n",
       " (Timestamp('2020-03-16 00:00:00'),\n",
       "  2386.1298828125,\n",
       "  Timestamp('2020-03-13 00:00:00'),\n",
       "  2711.02001953125),\n",
       " (Timestamp('2020-03-17 00:00:00'),\n",
       "  2529.18994140625,\n",
       "  Timestamp('2020-03-16 00:00:00'),\n",
       "  2386.1298828125),\n",
       " (Timestamp('2020-03-18 00:00:00'),\n",
       "  2398.10009765625,\n",
       "  Timestamp('2020-03-17 00:00:00'),\n",
       "  2529.18994140625),\n",
       " (Timestamp('2020-03-24 00:00:00'),\n",
       "  2447.330078125,\n",
       "  Timestamp('2020-03-23 00:00:00'),\n",
       "  2237.39990234375)]"
      ]
     },
     "execution_count": 466,
     "metadata": {},
     "output_type": "execute_result"
    }
   ],
   "source": [
    "d1"
   ]
  },
  {
   "cell_type": "code",
   "execution_count": 467,
   "id": "be424aa3",
   "metadata": {},
   "outputs": [
    {
     "data": {
      "text/plain": [
       "2020-03-02 06:30:00    17.490775\n",
       "2020-03-05 06:30:00     0.454653\n",
       "2020-03-12 00:00:00    -2.579619\n",
       "2020-03-13 00:00:00     1.238283\n",
       "2020-03-16 00:00:00    -1.597874\n",
       "2020-03-17 00:00:00     0.799398\n",
       "2020-03-23 00:00:00    -1.538253\n",
       "dtype: float64"
      ]
     },
     "execution_count": 467,
     "metadata": {},
     "output_type": "execute_result"
    }
   ],
   "source": [
    "TMV = dc.get_TMV(d1, theta)\n",
    "TMV"
   ]
  },
  {
   "cell_type": "code",
   "execution_count": 468,
   "id": "264825c2",
   "metadata": {},
   "outputs": [
    {
     "data": {
      "text/plain": [
       "2020-03-02 06:30:00    3135.000000\n",
       "2020-03-05 06:30:00       3.000000\n",
       "2020-03-12 00:00:00       6.708333\n",
       "2020-03-13 00:00:00       1.000000\n",
       "2020-03-16 00:00:00       3.000000\n",
       "2020-03-17 00:00:00       1.000000\n",
       "2020-03-23 00:00:00       6.000000\n",
       "dtype: float64"
      ]
     },
     "execution_count": 468,
     "metadata": {},
     "output_type": "execute_result"
    }
   ],
   "source": [
    "T = dc.get_T( d1 )\n",
    "T"
   ]
  },
  {
   "cell_type": "code",
   "execution_count": 469,
   "id": "4c272e42",
   "metadata": {},
   "outputs": [
    {
     "data": {
      "text/plain": [
       "2020-03-02 06:30:00    0.000418\n",
       "2020-03-05 06:30:00    0.011366\n",
       "2020-03-12 00:00:00   -0.028840\n",
       "2020-03-13 00:00:00    0.092871\n",
       "2020-03-16 00:00:00   -0.039947\n",
       "2020-03-17 00:00:00    0.059955\n",
       "2020-03-23 00:00:00   -0.019228\n",
       "dtype: float64"
      ]
     },
     "execution_count": 469,
     "metadata": {},
     "output_type": "execute_result"
    }
   ],
   "source": [
    "R = dc.get_R( TMV, T, theta )\n",
    "R"
   ]
  },
  {
   "cell_type": "code",
   "execution_count": 470,
   "id": "c7b108de",
   "metadata": {},
   "outputs": [
    {
     "name": "stderr",
     "output_type": "stream",
     "text": [
      "Fitting a model with 7 free scalar parameters with only 4 data points will result in a degenerate solution.\n",
      "Fitting a model with 7 free scalar parameters with only 4 data points will result in a degenerate solution.\n",
      "Fitting a model with 7 free scalar parameters with only 4 data points will result in a degenerate solution.\n",
      "Fitting a model with 7 free scalar parameters with only 4 data points will result in a degenerate solution.\n",
      "Fitting a model with 7 free scalar parameters with only 4 data points will result in a degenerate solution.\n",
      "Fitting a model with 7 free scalar parameters with only 4 data points will result in a degenerate solution.\n",
      "Fitting a model with 7 free scalar parameters with only 4 data points will result in a degenerate solution.\n",
      "Fitting a model with 7 free scalar parameters with only 4 data points will result in a degenerate solution.\n",
      "Fitting a model with 7 free scalar parameters with only 4 data points will result in a degenerate solution.\n",
      "Fitting a model with 7 free scalar parameters with only 4 data points will result in a degenerate solution.\n"
     ]
    },
    {
     "data": {
      "image/png": "[encoded data removed]",
      "text/plain": [
       "<Figure size 576x396 with 1 Axes>"
      ]
     },
     "metadata": {},
     "output_type": "display_data"
    }
   ],
   "source": [
    "regimes, model = hmm.fit_hmm(2, data, R, 'S&P500', plot = True)"
   ]
  },
  {
   "cell_type": "markdown",
   "id": "67c82362",
   "metadata": {},
   "source": [
    "# Trading Strategy Tests"
   ]
  },
  {
   "cell_type": "code",
   "execution_count": 536,
   "id": "7a161478",
   "metadata": {},
   "outputs": [
    {
     "name": "stdout",
     "output_type": "stream",
     "text": [
      "[*********************100%***********************]  1 of 1 completed\n"
     ]
    },
    {
     "data": {
      "image/png": "[encoded data removed]",
      "text/plain": [
       "<Figure size 576x396 with 1 Axes>"
      ]
     },
     "metadata": {},
     "output_type": "display_data"
    },
    {
     "name": "stdout",
     "output_type": "stream",
     "text": [
      "Total duration of time: 407053800.0\n",
      "Total duration spend in Regime 0: 341530200.0\n",
      "Proportion of time spend in Regime 0: 0.8390296319552846\n"
     ]
    }
   ],
   "source": [
    "data = dc.get_data(['^GSPC'], '2010-01-01', 6.5)\n",
    "theta = 0.025\n",
    "DC = dc.get_DC_data_v2( data, theta)\n",
    "\n",
    "TMV = dc.get_TMV(DC, theta)\n",
    "T = dc.get_T( DC )\n",
    "R = dc.get_R( TMV, T, theta )\n",
    "\n",
    "regimes, model = hmm.fit_hmm(2, data, R, 'S&P500', plot = True)\n",
    "regimes_filtered = hmm.standardize_regime_labels(regimes, True)"
   ]
  },
  {
   "cell_type": "code",
   "execution_count": 537,
   "id": "6d459aa6",
   "metadata": {},
   "outputs": [
    {
     "data": {
      "text/plain": [
       "Date\n",
       "2010-01-04 00:00:00    1132.989990\n",
       "2010-01-04 06:30:00    1116.560059\n",
       "2010-01-05 00:00:00    1136.520020\n",
       "2010-01-05 06:30:00    1132.660034\n",
       "2010-01-06 00:00:00    1137.140015\n",
       "dtype: float64"
      ]
     },
     "execution_count": 537,
     "metadata": {},
     "output_type": "execute_result"
    }
   ],
   "source": [
    "data.head()"
   ]
  },
  {
   "cell_type": "code",
   "execution_count": 528,
   "id": "0edc8cd6",
   "metadata": {},
   "outputs": [],
   "source": [
    "init_cap = 1\n",
    "threshold = 2\n",
    "\n",
    "df = gd.generate_dataset_with_columns( data, DC, regimes_filtered, theta )\n",
    "df1 = ts.strategy_regime_dependent(df, init_cap=init_cap, strat='JC1', threshold = threshold)\n",
    "df2 = ts.strategy_control(df1, init_cap=init_cap, strat='CT1', threshold = threshold)\n",
    "data = df2"
   ]
  },
  {
   "cell_type": "code",
   "execution_count": 529,
   "id": "ce508bc2",
   "metadata": {},
   "outputs": [
    {
     "data": {
      "text/plain": [
       "0.3548781770830093"
      ]
     },
     "execution_count": 529,
     "metadata": {},
     "output_type": "execute_result"
    }
   ],
   "source": [
    "ts.get_sharpe( data, 'daily_ret_JC1' )"
   ]
  },
  {
   "cell_type": "code",
   "execution_count": 530,
   "id": "2a4a640a",
   "metadata": {},
   "outputs": [
    {
     "data": {
      "text/plain": [
       "0.14807997831874123"
      ]
     },
     "execution_count": 530,
     "metadata": {},
     "output_type": "execute_result"
    }
   ],
   "source": [
    "ts.get_sharpe( data, 'daily_ret_CT1' )"
   ]
  },
  {
   "cell_type": "code",
   "execution_count": 531,
   "id": "b7866f26",
   "metadata": {},
   "outputs": [
    {
     "data": {
      "text/plain": [
       "1.1251488195692048"
      ]
     },
     "execution_count": 531,
     "metadata": {},
     "output_type": "execute_result"
    }
   ],
   "source": [
    "ts.get_profit( data, 'total_cap_JC1' )"
   ]
  },
  {
   "cell_type": "code",
   "execution_count": 532,
   "id": "c8206ca1",
   "metadata": {},
   "outputs": [
    {
     "data": {
      "text/plain": [
       "0.13873784393037725"
      ]
     },
     "execution_count": 532,
     "metadata": {},
     "output_type": "execute_result"
    }
   ],
   "source": [
    "ts.get_profit( data, 'total_cap_CT1' )"
   ]
  },
  {
   "cell_type": "code",
   "execution_count": 533,
   "id": "2f5be3d0",
   "metadata": {},
   "outputs": [
    {
     "data": {
      "text/plain": [
       "0.21002452068707864"
      ]
     },
     "execution_count": 533,
     "metadata": {},
     "output_type": "execute_result"
    }
   ],
   "source": [
    "ts.get_drawdown( data, 'daily_ret_JC1' )"
   ]
  },
  {
   "cell_type": "code",
   "execution_count": 534,
   "id": "03d2fa69",
   "metadata": {},
   "outputs": [
    {
     "data": {
      "text/plain": [
       "0.37337447657761014"
      ]
     },
     "execution_count": 534,
     "metadata": {},
     "output_type": "execute_result"
    }
   ],
   "source": [
    "ts.get_drawdown( data, 'daily_ret_CT1' )"
   ]
  },
  {
   "cell_type": "code",
   "execution_count": 535,
   "id": "a827aa21",
   "metadata": {},
   "outputs": [
    {
     "data": {
      "text/plain": [
       "{'JC1': {'drawdown': 0.21002452068707864,\n",
       "  'profit': 1.1251488195692048,\n",
       "  'sharpe': 0.3548781770830093},\n",
       " 'CT1': {'drawdown': 0.37337447657761014,\n",
       "  'profit': 0.13873784393037725,\n",
       "  'sharpe': 0.14807997831874123}}"
      ]
     },
     "execution_count": 535,
     "metadata": {},
     "output_type": "execute_result"
    }
   ],
   "source": [
    "ts.get_metrics_trading_strategy( data, ['JC1', 'CT1'] )"
   ]
  },
  {
   "cell_type": "code",
   "execution_count": null,
   "id": "9fbfee64",
   "metadata": {},
   "outputs": [],
   "source": []
  },
  {
   "cell_type": "markdown",
   "id": "b9cd9007",
   "metadata": {},
   "source": [
    "## Trading strategy pipeline for loss function"
   ]
  },
  {
   "cell_type": "code",
   "execution_count": 553,
   "id": "6cc526a0",
   "metadata": {},
   "outputs": [
    {
     "data": {
      "text/plain": [
       "{'JC1': {'drawdown': 0.23612159248636705,\n",
       "  'profit': 2.456361443791959,\n",
       "  'sharpe': 0.4475908293107351}}"
      ]
     },
     "execution_count": 553,
     "metadata": {},
     "output_type": "execute_result"
    }
   ],
   "source": [
    "'''Function for loss- returns dictionary'''\n",
    "ts.get_loss_function_for_pipeline( data, DC, regimes, theta, init_cap = 1, strat = 'JC1', threshold = 1)"
   ]
  },
  {
   "cell_type": "code",
   "execution_count": null,
   "id": "f51a2434",
   "metadata": {},
   "outputs": [],
   "source": []
  }
 ],
 "metadata": {
  "kernelspec": {
   "display_name": "Python 3 (ipykernel)",
   "language": "python",
   "name": "python3"
  },
  "language_info": {
   "codemirror_mode": {
    "name": "ipython",
    "version": 3
   },
   "file_extension": ".py",
   "mimetype": "text/x-python",
   "name": "python",
   "nbconvert_exporter": "python",
   "pygments_lexer": "ipython3",
   "version": "3.10.6"
  }
 },
 "nbformat": 4,
 "nbformat_minor": 5
}
