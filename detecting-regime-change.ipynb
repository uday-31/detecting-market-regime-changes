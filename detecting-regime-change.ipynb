{
 "cells": [
  {
   "attachments": {},
   "cell_type": "markdown",
   "metadata": {},
   "source": [
    "Group Members: Dhruv, Rohan, Sarthak, Uday"
   ]
  },
  {
   "cell_type": "code",
   "execution_count": null,
   "metadata": {},
   "outputs": [],
   "source": [
    "# !pip install yahoofinance\n",
    "!pip install hmmlearn"
   ]
  },
  {
   "cell_type": "code",
   "execution_count": 242,
   "metadata": {},
   "outputs": [],
   "source": [
    "import pandas as pd\n",
    "import numpy as np\n",
    "import yfinance as yf\n",
    "from hmmlearn import hmm\n",
    "import matplotlib.pyplot as plt\n",
    "plt.style.use('seaborn')"
   ]
  },
  {
   "attachments": {},
   "cell_type": "markdown",
   "metadata": {},
   "source": [
    "TODO: hyperparameters/global vars in UPPERCASE"
   ]
  },
  {
   "attachments": {},
   "cell_type": "markdown",
   "metadata": {},
   "source": [
    "# Data Preprocessing"
   ]
  },
  {
   "attachments": {},
   "cell_type": "markdown",
   "metadata": {},
   "source": [
    "## Reading data"
   ]
  },
  {
   "cell_type": "code",
   "execution_count": 799,
   "metadata": {},
   "outputs": [],
   "source": [
    "TYPE = 'EQUITY' # 'EQUITY' or 'FX' or 'BOND'\n",
    "#TICKERS = ['EURGBP=X','GBP=X']\n",
    "TICKERS = ['^DJI','^GSPC','^IXIC']\n",
    "#TICKERS = ['^TNX', '^IRX']\n",
    "#TICKERS = ['^RUB=X','GBP=X','JPY=X','CNY=X']\n",
    "START_DATE = \"2005-01-01\"\n",
    "THETA = 0.005\n",
    "NUM_REGIMES = 2\n",
    "\n",
    "TRADING_DAY = {'EQUITY':6.5, 'FX':12,'BOND':9} # number of hours in a day we offset\n",
    "TEST_TICKER = TICKERS[-1] # if we need to debug for a single ticker"
   ]
  },
  {
   "attachments": {},
   "cell_type": "markdown",
   "metadata": {},
   "source": [
    "TODO: THETA has to depend on instrument considered, curencies are relatively more stable than equities"
   ]
  },
  {
   "cell_type": "code",
   "execution_count": 800,
   "metadata": {},
   "outputs": [
    {
     "name": "stdout",
     "output_type": "stream",
     "text": [
      "[*********************100%***********************]  3 of 3 completed\n"
     ]
    }
   ],
   "source": [
    "data = yf.download(TICKERS, start=START_DATE, end = '2022-12-31') # time series data\n",
    "df_ts_close = data['Adj Close'].dropna()\n",
    "df_ts_open = data['Open'].dropna()\n",
    "df_ts_open.index = df_ts_open.index + pd.Timedelta(f'{TRADING_DAY[TYPE]/2}h') # adjust time\n",
    "df_ts = pd.concat([df_ts_close,df_ts_open]).sort_index()"
   ]
  },
  {
   "cell_type": "code",
   "execution_count": 801,
   "metadata": {},
   "outputs": [
    {
     "data": {
      "text/html": [
       "<div>\n",
       "<style scoped>\n",
       "    .dataframe tbody tr th:only-of-type {\n",
       "        vertical-align: middle;\n",
       "    }\n",
       "\n",
       "    .dataframe tbody tr th {\n",
       "        vertical-align: top;\n",
       "    }\n",
       "\n",
       "    .dataframe thead th {\n",
       "        text-align: right;\n",
       "    }\n",
       "</style>\n",
       "<table border=\"1\" class=\"dataframe\">\n",
       "  <thead>\n",
       "    <tr style=\"text-align: right;\">\n",
       "      <th></th>\n",
       "      <th>^DJI</th>\n",
       "      <th>^GSPC</th>\n",
       "      <th>^IXIC</th>\n",
       "    </tr>\n",
       "  </thead>\n",
       "  <tbody>\n",
       "    <tr>\n",
       "      <th>count</th>\n",
       "      <td>9061.000000</td>\n",
       "      <td>9061.000000</td>\n",
       "      <td>9061.000000</td>\n",
       "    </tr>\n",
       "    <tr>\n",
       "      <th>mean</th>\n",
       "      <td>0.000209</td>\n",
       "      <td>0.000219</td>\n",
       "      <td>0.000278</td>\n",
       "    </tr>\n",
       "    <tr>\n",
       "      <th>std</th>\n",
       "      <td>0.012987</td>\n",
       "      <td>0.013515</td>\n",
       "      <td>0.014427</td>\n",
       "    </tr>\n",
       "    <tr>\n",
       "      <th>min</th>\n",
       "      <td>-0.138348</td>\n",
       "      <td>-0.124082</td>\n",
       "      <td>-0.140664</td>\n",
       "    </tr>\n",
       "    <tr>\n",
       "      <th>25%</th>\n",
       "      <td>-0.005315</td>\n",
       "      <td>-0.005447</td>\n",
       "      <td>-0.006284</td>\n",
       "    </tr>\n",
       "    <tr>\n",
       "      <th>50%</th>\n",
       "      <td>0.000128</td>\n",
       "      <td>0.000115</td>\n",
       "      <td>0.000094</td>\n",
       "    </tr>\n",
       "    <tr>\n",
       "      <th>75%</th>\n",
       "      <td>0.005850</td>\n",
       "      <td>0.006119</td>\n",
       "      <td>0.007205</td>\n",
       "    </tr>\n",
       "    <tr>\n",
       "      <th>max</th>\n",
       "      <td>0.117979</td>\n",
       "      <td>0.126971</td>\n",
       "      <td>0.159344</td>\n",
       "    </tr>\n",
       "  </tbody>\n",
       "</table>\n",
       "</div>"
      ],
      "text/plain": [
       "              ^DJI        ^GSPC        ^IXIC\n",
       "count  9061.000000  9061.000000  9061.000000\n",
       "mean      0.000209     0.000219     0.000278\n",
       "std       0.012987     0.013515     0.014427\n",
       "min      -0.138348    -0.124082    -0.140664\n",
       "25%      -0.005315    -0.005447    -0.006284\n",
       "50%       0.000128     0.000115     0.000094\n",
       "75%       0.005850     0.006119     0.007205\n",
       "max       0.117979     0.126971     0.159344"
      ]
     },
     "execution_count": 801,
     "metadata": {},
     "output_type": "execute_result"
    }
   ],
   "source": [
    "df_ts.pct_change().describe()"
   ]
  },
  {
   "cell_type": "code",
   "execution_count": 802,
   "metadata": {},
   "outputs": [
    {
     "data": {
      "text/plain": [
       "<matplotlib.axes._subplots.AxesSubplot at 0x2a39d8bb0>"
      ]
     },
     "execution_count": 802,
     "metadata": {},
     "output_type": "execute_result"
    },
    {
     "data": {
      "image/png": "[encoded data removed]",
      "text/plain": [
       "<Figure size 576x396 with 1 Axes>"
      ]
     },
     "metadata": {},
     "output_type": "display_data"
    }
   ],
   "source": [
    "df_ts.plot()"
   ]
  },
  {
   "attachments": {},
   "cell_type": "markdown",
   "metadata": {},
   "source": [
    "## Generating Directional Change (DC) data"
   ]
  },
  {
   "attachments": {},
   "cell_type": "markdown",
   "metadata": {},
   "source": [
    "TODO: peaks and troughs are recognized in hindsight"
   ]
  },
  {
   "cell_type": "code",
   "execution_count": 803,
   "metadata": {},
   "outputs": [],
   "source": [
    "def get_DC_data(data: pd.Series, theta: float) -> tuple[pd.Series]:\n",
    "    \"\"\"Returns the Directional Change (DC) data for a given price series.\n",
    "\n",
    "    Args:\n",
    "        data (pd.Series): price\n",
    "        theta (float): threshold\n",
    "\n",
    "    Returns:\n",
    "        tuple[pd.Series]: Directional Change Confirmation and Extreme Points (DCC,EXT)\n",
    "    \"\"\"\n",
    "\n",
    "    rets = data.pct_change().dropna().to_numpy() # pct change returns\n",
    "    DCC = [] # idx for directional change confirmations\n",
    "    EXT = [] # idx for extreme points\n",
    "\n",
    "    prev_sign = np.sign(rets[0]).astype(int) # store sign(return) from the previous time step\n",
    "    accumulated = rets[0] # accumulated % return\n",
    "    idx_change = 0 # index the direction changes, candidate for EXT\n",
    "    sign_already_flagged = 0\n",
    "\n",
    "    for idx,ret in zip(range(1,len(rets)),rets[1:]):\n",
    "        \n",
    "        ret_sign = np.sign(ret).astype(int)\n",
    "\n",
    "        if (ret_sign!=prev_sign):\n",
    "            # sign is different from previous time step, trend ends\n",
    "            idx_change = idx-1 # previous price point is a candidate for EXT\n",
    "            accumulated = ret # reset accumulated sum\n",
    "            \n",
    "            \n",
    "        # same sign\n",
    "        elif ret_sign != sign_already_flagged:\n",
    "            # once we flag a threshold, we don't flag it again for the same trend\n",
    "            # a peak has to be followed by a trough and vice versa\n",
    "            accumulated += ret\n",
    "            if np.abs(accumulated) > theta:\n",
    "                # we cross the threshold\n",
    "                DCC.append(idx)\n",
    "                EXT.append(idx_change)\n",
    "                sign_already_flagged = ret_sign\n",
    "        \n",
    "        prev_sign = ret_sign # set the last seen sign to the current sign\n",
    "\n",
    "    DCC = data.iloc[1:].iloc[DCC]\n",
    "    EXT = data.iloc[1:].iloc[EXT]\n",
    "\n",
    "    return (DCC,EXT)"
   ]
  },
  {
   "cell_type": "code",
   "execution_count": 804,
   "metadata": {},
   "outputs": [],
   "source": [
    "dcc = {}\n",
    "ext = {}\n",
    "for ticker in TICKERS:\n",
    "    dcc[ticker], ext[ticker] = get_DC_data(df_ts[ticker], THETA)"
   ]
  },
  {
   "cell_type": "code",
   "execution_count": 805,
   "metadata": {},
   "outputs": [
    {
     "data": {
      "image/png": "[encoded data removed]",
      "text/plain": [
       "<Figure size 576x396 with 1 Axes>"
      ]
     },
     "metadata": {},
     "output_type": "display_data"
    }
   ],
   "source": [
    "# example\n",
    "sample_ts = df_ts[TEST_TICKER][:50]\n",
    "last_date = sample_ts.index[-1]\n",
    "sample_dcc = dcc[TEST_TICKER].loc[:last_date].index\n",
    "sample_ext = ext[TEST_TICKER].loc[:last_date].index\n",
    "\n",
    "fig,ax = plt.subplots()\n",
    "sample_ts.plot(ax=ax, color ='black')\n",
    "ymin, ymax = sample_ts.min(), sample_ts.max()\n",
    "ax.vlines(sample_ext, ymin, ymax, 'r','dashed',label='EXT',alpha=0.6)\n",
    "ax.vlines(sample_dcc, ymin, ymax, 'navy','dashed',label='DCC',alpha=0.6)\n",
    "ax.set_title(f\"DC indicators for {TEST_TICKER} with threshold {THETA}\")\n",
    "ax.set_ylabel(\"Price\")\n",
    "ax.legend()\n",
    "plt.show()"
   ]
  },
  {
   "attachments": {},
   "cell_type": "markdown",
   "metadata": {},
   "source": [
    "## Directional Change indicators"
   ]
  },
  {
   "cell_type": "code",
   "execution_count": 806,
   "metadata": {},
   "outputs": [],
   "source": [
    "def get_TMV(ext: pd.Series, theta: float) -> pd.Series:\n",
    "    \"\"\"Gets the total price movement (TMV), which is the absolute percentage of the price change in a trend, normalized by the threshold.\n",
    "\n",
    "    Args:\n",
    "        ext (pd.Series): extreme points\n",
    "        theta (float): threshold\n",
    "\n",
    "    Returns:\n",
    "        pd.Series: total price movement at respective timestamps\n",
    "    \"\"\"\n",
    "    return ext.pct_change().dropna()/theta\n",
    "\n",
    "def get_T(ext: pd.Series) -> pd.Series:\n",
    "    \"\"\"Gets the time for completion of a TMV trend, in days.\n",
    "\n",
    "    Args:\n",
    "        ext (pd.Series): extreme points\n",
    "\n",
    "    Returns:\n",
    "        pd.Series: time for completion of trends at respective timestamps\n",
    "    \"\"\"\n",
    "    # extract number of days and hours between extreme points\n",
    "    t_ext = pd.Series(ext.index).diff().dropna().apply(lambda x: x.days + (x.seconds//3600)/24)\n",
    "    t_ext.index = ext.index[1:]\n",
    "    return t_ext\n",
    "\n",
    "def get_R(tmv: pd.Series, T: pd.Series, theta: float) -> pd.Series:\n",
    "    \"\"\"Gets the absolute return (R), which is the time-adjusted return of DC.\n",
    "\n",
    "    Args:\n",
    "        tmv (pd.Series): total price movement\n",
    "        T (pd.Series): time for completion of a trend\n",
    "        theta (float): threshold\n",
    "\n",
    "    Returns:\n",
    "        pd.Series: time-adjusted return of DC\n",
    "    \"\"\"\n",
    "    return tmv*theta/T"
   ]
  },
  {
   "cell_type": "code",
   "execution_count": 807,
   "metadata": {},
   "outputs": [],
   "source": [
    "tmv = {}\n",
    "T = {}\n",
    "R = {}\n",
    "for ticker in TICKERS:\n",
    "    tmv[ticker] = get_TMV(ext[ticker],THETA)\n",
    "    T[ticker] = get_T(ext[ticker])\n",
    "    R[ticker] = get_R(tmv[ticker],T[ticker],THETA)"
   ]
  },
  {
   "attachments": {},
   "cell_type": "markdown",
   "metadata": {},
   "source": [
    "# Methods"
   ]
  },
  {
   "attachments": {},
   "cell_type": "markdown",
   "metadata": {},
   "source": [
    "## Hidden Markov model on DC data"
   ]
  },
  {
   "attachments": {},
   "cell_type": "markdown",
   "metadata": {},
   "source": [
    "Fitting it on time-adjusted return of DC (R).\n",
    "\n",
    "Assumptions:\n",
    "\n",
    "- Gaussian distribution for model density\n",
    "- Two states"
   ]
  },
  {
   "cell_type": "code",
   "execution_count": 808,
   "metadata": {},
   "outputs": [
    {
     "data": {
      "text/plain": [
       "<matplotlib.axes._subplots.AxesSubplot at 0x2b4dfd8e0>"
      ]
     },
     "execution_count": 808,
     "metadata": {},
     "output_type": "execute_result"
    },
    {
     "data": {
      "image/png": "[encoded data removed]",
      "text/plain": [
       "<Figure size 576x396 with 1 Axes>"
      ]
     },
     "metadata": {},
     "output_type": "display_data"
    }
   ],
   "source": [
    "R[TEST_TICKER].plot.density()"
   ]
  },
  {
   "attachments": {},
   "cell_type": "markdown",
   "metadata": {},
   "source": [
    "TODO:  Note, since the EM algorithm is a gradient-based optimization method, it will generally get stuck in local optima. You should in general try to run fit with various initializations and select the highest scored model."
   ]
  },
  {
   "cell_type": "code",
   "execution_count": 843,
   "metadata": {},
   "outputs": [],
   "source": [
    "def fit_hmm(n_components: int, price: pd.Series, indicator: pd.Series, ticker: str, plot: bool =False, combine = False, indicator2 = None) -> tuple[pd.Series, hmm.GaussianHMM]:\n",
    "    \"\"\"Fits a Hidden Markov model to the data and predicts regimes on it. Optionally makes a plot.\n",
    "\n",
    "    Args:\n",
    "        n_components (int): number of regimes\n",
    "        price (pd.Series): price series of the instrument\n",
    "        indicator (pd.Series): indicator series we wish to fit the model on\n",
    "        ticker (str): ticker of the instrument\n",
    "        plot (bool, optional): whether the regimes need to be plotted. Defaults to False.\n",
    "\n",
    "    Returns:\n",
    "        tuple[pd.Series,hmm.GaussianHMM]: the predicted regimes and the HMM model\n",
    "    \"\"\"\n",
    "    \n",
    "    X1 = indicator.to_numpy().reshape(-1,1)\n",
    "    X1_train = X1[:int(0.7*len(X1))]\n",
    "    if combine:\n",
    "        X2 = indicator2.to_numpy().reshape(-1,1)\n",
    "        X2_train = X2[:int(0.7*len(X2))] # TODO remove hardcoded train\n",
    "        X = np.concatenate([X1, X2])\n",
    "        lengths = [len(X1_train), len(X2_train)]\n",
    "        X_train = X[:int(0.7*len(X)),:]\n",
    "        print(X_train.shape, X.shape)\n",
    "        \n",
    "\n",
    "    \n",
    "    models, scores = [], []\n",
    "    for idx in range(10):\n",
    "        model = hmm.GaussianHMM(n_components=2, covariance_type=\"full\", n_iter=1000,\n",
    "            random_state=idx)\n",
    "        if not combine:\n",
    "            model.fit(X1_train)\n",
    "            models.append(model)\n",
    "            scores.append(model.score(X1))\n",
    "        else:\n",
    "            model = hmm.GaussianHMM(n_components=2, covariance_type=\"full\", n_iter=1000,\n",
    "            random_state=idx)\n",
    "            model.fit(X_train, lengths)\n",
    "            models.append(model)\n",
    "            scores.append(model.score(X1))\n",
    "\n",
    "    model = models[np.argmax(scores)]\n",
    "    if not combine:\n",
    "        regimes = pd.Series(model.predict(X1))\n",
    "        regimes.index = indicator.index\n",
    "    else:\n",
    "        regimes = pd.Series(model.predict(X,lengths=[len(X1),len(X2)]))\n",
    "        regimes.index = indicator.index\n",
    "\n",
    "    if plot:\n",
    "        fig, ax = plt.subplots()\n",
    "        price.plot(ax=ax, color='black')\n",
    "        clr = {0:'grey',1:'red',2:'green'}\n",
    "\n",
    "        for time_start, time_end, regime in zip(regimes.index[:-1], regimes.index[1:], regimes.values[:-1]):\n",
    "            ax.axvspan(time_start,time_end, alpha=0.8, color=clr[regime])\n",
    "        ax.vlines(price.index[int(0.7*len(price))],0,price.max(),color='blue')\n",
    "        ax.set_title(f\"regimes for {ticker}\")\n",
    "        ax.set_ylabel(\"price\")\n",
    "        plt.show()\n",
    "\n",
    "    return regimes, model"
   ]
  },
  {
   "cell_type": "code",
   "execution_count": 844,
   "metadata": {},
   "outputs": [
    {
     "name": "stdout",
     "output_type": "stream",
     "text": [
      "[*********************100%***********************]  2 of 2 completed\n",
      "0.05\n",
      "(12668, 1) (18098, 1)\n"
     ]
    },
    {
     "ename": "ValueError",
     "evalue": "Length mismatch: Expected axis has 18098 elements, new values have 9049 elements",
     "output_type": "error",
     "traceback": [
      "\u001b[0;31m---------------------------------------------------------------------------\u001b[0m",
      "\u001b[0;31mValueError\u001b[0m                                Traceback (most recent call last)",
      "\u001b[1;32m/Users/uday/Desktop/Machine Learning II/Project/detecting-regime-change/detecting-regime-change.ipynb Cell 26\u001b[0m in \u001b[0;36m<cell line: 19>\u001b[0;34m()\u001b[0m\n\u001b[1;32m     <a href='vscode-notebook-cell:/Users/uday/Desktop/Machine%20Learning%20II/Project/detecting-regime-change/detecting-regime-change.ipynb#Y124sZmlsZQ%3D%3D?line=30'>31</a>\u001b[0m     T[ticker] \u001b[39m=\u001b[39m get_T(ext[ticker])\n\u001b[1;32m     <a href='vscode-notebook-cell:/Users/uday/Desktop/Machine%20Learning%20II/Project/detecting-regime-change/detecting-regime-change.ipynb#Y124sZmlsZQ%3D%3D?line=31'>32</a>\u001b[0m     R[ticker] \u001b[39m=\u001b[39m get_R(tmv[ticker],T[ticker],THETA)\n\u001b[0;32m---> <a href='vscode-notebook-cell:/Users/uday/Desktop/Machine%20Learning%20II/Project/detecting-regime-change/detecting-regime-change.ipynb#Y124sZmlsZQ%3D%3D?line=33'>34</a>\u001b[0m fit_hmm(NUM_REGIMES, df_ts[TICKERS[\u001b[39m1\u001b[39;49m]], df_ts[TICKERS[\u001b[39m1\u001b[39;49m]]\u001b[39m.\u001b[39;49mdiff()\u001b[39m.\u001b[39;49mdropna(), ticker, plot \u001b[39m=\u001b[39;49m \u001b[39mTrue\u001b[39;49;00m, combine\u001b[39m=\u001b[39;49m\u001b[39mTrue\u001b[39;49;00m, indicator2\u001b[39m=\u001b[39;49mdf_ts[TICKERS[\u001b[39m0\u001b[39;49m]]\u001b[39m.\u001b[39;49mdiff()\u001b[39m.\u001b[39;49mdropna())\n",
      "\u001b[1;32m/Users/uday/Desktop/Machine Learning II/Project/detecting-regime-change/detecting-regime-change.ipynb Cell 26\u001b[0m in \u001b[0;36mfit_hmm\u001b[0;34m(n_components, price, indicator, ticker, plot, combine, indicator2)\u001b[0m\n\u001b[1;32m     <a href='vscode-notebook-cell:/Users/uday/Desktop/Machine%20Learning%20II/Project/detecting-regime-change/detecting-regime-change.ipynb#Y124sZmlsZQ%3D%3D?line=45'>46</a>\u001b[0m \u001b[39melse\u001b[39;00m:\n\u001b[1;32m     <a href='vscode-notebook-cell:/Users/uday/Desktop/Machine%20Learning%20II/Project/detecting-regime-change/detecting-regime-change.ipynb#Y124sZmlsZQ%3D%3D?line=46'>47</a>\u001b[0m     regimes \u001b[39m=\u001b[39m pd\u001b[39m.\u001b[39mSeries(model\u001b[39m.\u001b[39mpredict(X))\n\u001b[0;32m---> <a href='vscode-notebook-cell:/Users/uday/Desktop/Machine%20Learning%20II/Project/detecting-regime-change/detecting-regime-change.ipynb#Y124sZmlsZQ%3D%3D?line=47'>48</a>\u001b[0m     regimes\u001b[39m.\u001b[39mindex \u001b[39m=\u001b[39m indicator\u001b[39m.\u001b[39mindex\n\u001b[1;32m     <a href='vscode-notebook-cell:/Users/uday/Desktop/Machine%20Learning%20II/Project/detecting-regime-change/detecting-regime-change.ipynb#Y124sZmlsZQ%3D%3D?line=49'>50</a>\u001b[0m \u001b[39mif\u001b[39;00m plot:\n\u001b[1;32m     <a href='vscode-notebook-cell:/Users/uday/Desktop/Machine%20Learning%20II/Project/detecting-regime-change/detecting-regime-change.ipynb#Y124sZmlsZQ%3D%3D?line=50'>51</a>\u001b[0m     fig, ax \u001b[39m=\u001b[39m plt\u001b[39m.\u001b[39msubplots()\n",
      "File \u001b[0;32m~/opt/anaconda3/lib/python3.9/site-packages/pandas/core/generic.py:5588\u001b[0m, in \u001b[0;36mNDFrame.__setattr__\u001b[0;34m(self, name, value)\u001b[0m\n\u001b[1;32m   5586\u001b[0m \u001b[39mtry\u001b[39;00m:\n\u001b[1;32m   5587\u001b[0m     \u001b[39mobject\u001b[39m\u001b[39m.\u001b[39m\u001b[39m__getattribute__\u001b[39m(\u001b[39mself\u001b[39m, name)\n\u001b[0;32m-> 5588\u001b[0m     \u001b[39mreturn\u001b[39;00m \u001b[39mobject\u001b[39;49m\u001b[39m.\u001b[39;49m\u001b[39m__setattr__\u001b[39;49m(\u001b[39mself\u001b[39;49m, name, value)\n\u001b[1;32m   5589\u001b[0m \u001b[39mexcept\u001b[39;00m \u001b[39mAttributeError\u001b[39;00m:\n\u001b[1;32m   5590\u001b[0m     \u001b[39mpass\u001b[39;00m\n",
      "File \u001b[0;32m~/opt/anaconda3/lib/python3.9/site-packages/pandas/_libs/properties.pyx:70\u001b[0m, in \u001b[0;36mpandas._libs.properties.AxisProperty.__set__\u001b[0;34m()\u001b[0m\n",
      "File \u001b[0;32m~/opt/anaconda3/lib/python3.9/site-packages/pandas/core/series.py:572\u001b[0m, in \u001b[0;36mSeries._set_axis\u001b[0;34m(self, axis, labels, fastpath)\u001b[0m\n\u001b[1;32m    568\u001b[0m             \u001b[39mpass\u001b[39;00m\n\u001b[1;32m    570\u001b[0m \u001b[39mif\u001b[39;00m \u001b[39mnot\u001b[39;00m fastpath:\n\u001b[1;32m    571\u001b[0m     \u001b[39m# The ensure_index call above ensures we have an Index object\u001b[39;00m\n\u001b[0;32m--> 572\u001b[0m     \u001b[39mself\u001b[39;49m\u001b[39m.\u001b[39;49m_mgr\u001b[39m.\u001b[39;49mset_axis(axis, labels)\n",
      "File \u001b[0;32m~/opt/anaconda3/lib/python3.9/site-packages/pandas/core/internals/managers.py:214\u001b[0m, in \u001b[0;36mBaseBlockManager.set_axis\u001b[0;34m(self, axis, new_labels)\u001b[0m\n\u001b[1;32m    212\u001b[0m \u001b[39mdef\u001b[39;00m \u001b[39mset_axis\u001b[39m(\u001b[39mself\u001b[39m, axis: \u001b[39mint\u001b[39m, new_labels: Index) \u001b[39m-\u001b[39m\u001b[39m>\u001b[39m \u001b[39mNone\u001b[39;00m:\n\u001b[1;32m    213\u001b[0m     \u001b[39m# Caller is responsible for ensuring we have an Index object.\u001b[39;00m\n\u001b[0;32m--> 214\u001b[0m     \u001b[39mself\u001b[39;49m\u001b[39m.\u001b[39;49m_validate_set_axis(axis, new_labels)\n\u001b[1;32m    215\u001b[0m     \u001b[39mself\u001b[39m\u001b[39m.\u001b[39maxes[axis] \u001b[39m=\u001b[39m new_labels\n",
      "File \u001b[0;32m~/opt/anaconda3/lib/python3.9/site-packages/pandas/core/internals/base.py:69\u001b[0m, in \u001b[0;36mDataManager._validate_set_axis\u001b[0;34m(self, axis, new_labels)\u001b[0m\n\u001b[1;32m     66\u001b[0m     \u001b[39mpass\u001b[39;00m\n\u001b[1;32m     68\u001b[0m \u001b[39melif\u001b[39;00m new_len \u001b[39m!=\u001b[39m old_len:\n\u001b[0;32m---> 69\u001b[0m     \u001b[39mraise\u001b[39;00m \u001b[39mValueError\u001b[39;00m(\n\u001b[1;32m     70\u001b[0m         \u001b[39mf\u001b[39m\u001b[39m\"\u001b[39m\u001b[39mLength mismatch: Expected axis has \u001b[39m\u001b[39m{\u001b[39;00mold_len\u001b[39m}\u001b[39;00m\u001b[39m elements, new \u001b[39m\u001b[39m\"\u001b[39m\n\u001b[1;32m     71\u001b[0m         \u001b[39mf\u001b[39m\u001b[39m\"\u001b[39m\u001b[39mvalues have \u001b[39m\u001b[39m{\u001b[39;00mnew_len\u001b[39m}\u001b[39;00m\u001b[39m elements\u001b[39m\u001b[39m\"\u001b[39m\n\u001b[1;32m     72\u001b[0m     )\n",
      "\u001b[0;31mValueError\u001b[0m: Length mismatch: Expected axis has 18098 elements, new values have 9049 elements"
     ]
    }
   ],
   "source": [
    "TYPE = 'BOND' # 'EQUITY' or 'FX' or 'BOND'\n",
    "#TICKERS = ['EURGBP=X','GBP=X']\n",
    "#TICKERS = ['^DJI','^GSPC','^IXIC']\n",
    "TICKERS = ['^TNX', '^IRX']\n",
    "#TICKERS = ['RUB=X','GBP=X','JPY=X','']\n",
    "START_DATE = \"2005-01-01\"\n",
    "THETA = 0.005\n",
    "NUM_REGIMES = 2\n",
    "\n",
    "TRADING_DAY = {'EQUITY':6.5, 'FX':12,'BOND':9} # number of hours in a day we offset\n",
    "TEST_TICKER = TICKERS[-1] # if we need to debug for a single ticker\n",
    "\n",
    "data = yf.download(TICKERS, start=START_DATE, end = '2022-12-31') # time series data\n",
    "df_ts_close = data['Adj Close'].dropna()\n",
    "df_ts_open = data['Open'].dropna()\n",
    "df_ts_open.index = df_ts_open.index + pd.Timedelta(f'{TRADING_DAY[TYPE]/2}h') # adjust time\n",
    "df_ts = pd.concat([df_ts_close,df_ts_open]).sort_index()\n",
    "\n",
    "for THETA in [0.05]:\n",
    "    print(THETA)\n",
    "    dcc = {}\n",
    "    ext = {}\n",
    "    for ticker in TICKERS:\n",
    "        dcc[ticker], ext[ticker] = get_DC_data(df_ts[ticker], THETA)\n",
    "\n",
    "    tmv = {}\n",
    "    T = {}\n",
    "    R = {}\n",
    "    for ticker in TICKERS:\n",
    "        tmv[ticker] = get_TMV(ext[ticker],THETA)\n",
    "        T[ticker] = get_T(ext[ticker])\n",
    "        R[ticker] = get_R(tmv[ticker],T[ticker],THETA)\n",
    "\n",
    "    fit_hmm(NUM_REGIMES, df_ts[TICKERS[1]], df_ts[TICKERS[1]].diff().dropna(), ticker, plot = True, combine=True, indicator2=df_ts[TICKERS[0]].diff().dropna())\n",
    "    #for ticker in TICKERS:\n",
    "    #    regimes, model = fit_hmm(NUM_REGIMES, df_ts[ticker], df_ts[ticker].diff().dropna(), ticker, plot = True)\n"
   ]
  },
  {
   "cell_type": "code",
   "execution_count": null,
   "metadata": {},
   "outputs": [],
   "source": []
  }
 ],
 "metadata": {
  "kernelspec": {
   "display_name": "Python 3.9.12 ('base')",
   "language": "python",
   "name": "python3"
  },
  "language_info": {
   "codemirror_mode": {
    "name": "ipython",
    "version": 3
   },
   "file_extension": ".py",
   "mimetype": "text/x-python",
   "name": "python",
   "nbconvert_exporter": "python",
   "pygments_lexer": "ipython3",
   "version": "3.9.12"
  },
  "orig_nbformat": 4,
  "vscode": {
   "interpreter": {
    "hash": "417f4c96b8a93166877ea833783777985ebd49905c42bc4a2c46f36438998e4c"
   }
  }
 },
 "nbformat": 4,
 "nbformat_minor": 2
}
